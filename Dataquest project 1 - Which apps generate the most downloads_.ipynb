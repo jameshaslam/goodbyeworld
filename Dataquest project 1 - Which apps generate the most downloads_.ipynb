{
 "cells": [
  {
   "cell_type": "markdown",
   "metadata": {},
   "source": [
    "# Dataquest Project 1: Which apps generate downloads?\n",
    "\n",
    "## 1. Analyzing Mobile App Data\n",
    "\n",
    "I have to determine which apps in this data set are downloaded the most, as though I'm an analyst at a gaming company looking for which types of apps are the most downloaded. Maybe we're trying to diversify, I don't know, my boss has a terrible habit of not keeping me informed. I also know from prior experience that the verticals defined do a terrible job of revealing such information, but hey, Dataquest didn't consult me on the project up front.\n",
    "\n",
    "Some 'roleplay' notes: we only make free games, deriving revenue from in-app ads (we're Voodoo, let's say). As such, the guide wants me to later delete paid-for apps. We're also going to focus on English only. Both steps I find confusing but ok.\n",
    "\n",
    "## 2. Opening the Data\n",
    "First, let's import our data set. I've never actually written this before, so I've added notes to code copied elsewhere to explain what things do."
   ]
  },
  {
   "cell_type": "code",
   "execution_count": 1,
   "metadata": {},
   "outputs": [],
   "source": [
    "from csv import reader\n",
    "\n",
    "#Google Play data\n",
    "opened_file = open('Project1/googleplaystore.csv')\n",
    "read_file = reader(opened_file) #Open file doesn't read the file, so I have to read it with this command.\n",
    "android = list(read_file) #Now turning it into a list and setting it to a variable.\n",
    "android_header = android[0] #Finally, splitting the data set into header and data.\n",
    "android = android[1:]\n",
    "\n",
    "#App Store data\n",
    "opened_file = open('Project1/AppleStore.csv')\n",
    "read_file = reader(opened_file)\n",
    "ios = list(read_file)\n",
    "ios_header = ios[0]\n",
    "ios = ios[1:]"
   ]
  },
  {
   "cell_type": "markdown",
   "metadata": {},
   "source": [
    "Dataquest have created a function which I've imported below. It allows me to \"repeatedly print rows in a readable way.\""
   ]
  },
  {
   "cell_type": "code",
   "execution_count": 2,
   "metadata": {},
   "outputs": [],
   "source": [
    "def explore_data(dataset, start, end, rows_and_columns=False):\n",
    "    dataset_slice = dataset[start:end]    \n",
    "    for row in dataset_slice:\n",
    "        print(row)\n",
    "        \n",
    "        print('\\n') # adds a new (empty) line between rows\n",
    "        \n",
    "    if rows_and_columns:\n",
    "        print('Number of rows:', len(dataset))\n",
    "        print('Number of columns:', len(dataset[0]))"
   ]
  },
  {
   "cell_type": "markdown",
   "metadata": {},
   "source": [
    "### explore_data documentation:\n",
    "\n",
    "The `explore_data()` function:\n",
    "\n",
    "- Takes in four parameters:\n",
    "    - `dataset`, which is expected to be a list of lists.\n",
    "    - `start` and `end`, which are both expected to be integers and represent the starting and the ending indices of a slice from the data set.\n",
    "    - `rows_and_columns`, which is expected to be a Boolean and has `False` as a default argument.\n",
    "\n",
    "- Slices the data set using `dataset[start:end]`.\n",
    "- Loops through the slice, and for each iteration, prints a row and adds a new line after that row using `print('\\n')`.\n",
    "\n",
    "- The `\\n` character adds a new line. We use `print('\\n')` to add some blank space between rows.\n",
    "\n",
    "- Prints the number of rows and columns if `rows_and_columns` is `True`.\n",
    "     - `dataset` shouldn't have a header row, otherwise the function will print the wrong number of rows (one more row compared to the actual length).\n",
    "     \n",
    "Here's that in practice:"
   ]
  },
  {
   "cell_type": "code",
   "execution_count": 3,
   "metadata": {
    "scrolled": true
   },
   "outputs": [
    {
     "name": "stdout",
     "output_type": "stream",
     "text": [
      "['EW Handbook', 'BUSINESS', 'NaN', '1', '17M', '100+', 'Free', '0', 'Everyone', 'Business', 'June 11, 2015', '4', '2.3.3 and up']\n",
      "\n",
      "\n",
      "['Mee-EW', 'TOOLS', 'NaN', '0', '17M', '5+', 'Free', '0', 'Everyone', 'Tools', 'August 2, 2018', '1.0.1', '4.1 and up']\n",
      "\n",
      "\n",
      "Number of rows: 10841\n",
      "Number of columns: 13\n",
      "\n",
      "\n",
      "['387893495', 'Virtual Regatta Offshore', '123541504', 'USD', '0', '209', '1', '3.5', '5', '2.2.1', '4+', 'Games', '37', '5', '1', '1']\n",
      "\n",
      "\n",
      "Number of rows: 7197\n",
      "Number of columns: 16\n"
     ]
    }
   ],
   "source": [
    "explore_data(android, 9999, 10001, True)\n",
    "print('\\n')\n",
    "explore_data(ios, 500, 501, True)"
   ]
  },
  {
   "cell_type": "markdown",
   "metadata": {},
   "source": [
    "## 2.1 Exploring the Data\n",
    "\n",
    "Let's see what the headers of each dataset look like and pick out which columns are useful for our analysis."
   ]
  },
  {
   "cell_type": "code",
   "execution_count": 4,
   "metadata": {},
   "outputs": [
    {
     "name": "stdout",
     "output_type": "stream",
     "text": [
      "['App', 'Category', 'Rating', 'Reviews', 'Size', 'Installs', 'Type', 'Price', 'Content Rating', 'Genres', 'Last Updated', 'Current Ver', 'Android Ver']\n",
      "\n",
      "\n",
      "['id', 'track_name', 'size_bytes', 'currency', 'price', 'rating_count_tot', 'rating_count_ver', 'user_rating', 'user_rating_ver', 'ver', 'cont_rating', 'prime_genre', 'sup_devices.num', 'ipadSc_urls.num', 'lang.num', 'vpp_lic']\n"
     ]
    }
   ],
   "source": [
    "print(android_header)\n",
    "print('\\n')\n",
    "print(ios_header)"
   ]
  },
  {
   "cell_type": "markdown",
   "metadata": {},
   "source": [
    "### Android columns of interest:\n",
    "I would say: App, Category, Installs, Genres.\n",
    "\n",
    "They say: 'App', 'Category', 'Reviews', 'Installs', 'Type', 'Price', and 'Genres'.\n",
    "\n",
    "- App = App name\n",
    "- Category = Vertical\n",
    "- Reviews = Number of reviews\n",
    "- Installs = Number of installs\n",
    "- Type = Free/Paid app\n",
    "- Price = If it has a price\n",
    "- Genres = More verticals (Not sure why there are more in Play Store)\n",
    "\n",
    "### iOS columns of interest:\n",
    "Supposedly, these are: 'track_name', 'currency', 'price', 'rating_count_tot', 'rating_count_ver', and 'prime_genre'\n",
    "\n",
    "- track_name = App name\n",
    "- currency = ??? (Would not have included)\n",
    "- price = free (0) or paid app\n",
    "- rating_count_tot = Number of reviews\n",
    "- rating_counts_ver = ???\n",
    "- prime_genre = The first vertical they've picked to categorize"
   ]
  },
  {
   "cell_type": "markdown",
   "metadata": {},
   "source": [
    "## 3) Deleting wrong data\n",
    "\n",
    "It's time to begin cleaning the dataset, before we analyze it. We need to:\n",
    "\n",
    "- Detect inaccurate data\n",
    "- Correct or remove it\n",
    "- Detect duplicate data\n",
    "- Update it\n",
    "\n",
    "We don't care about the 'foreign' market (lmao), so I need to remove all apps that are **non-English**.\n",
    "I also have to remove apps that **aren't free** because, in role play mode, I'm analyzing on behalf of an app company that only produces free apps (as above).\n",
    "\n",
    "First, let's take out the inaccurate data. Here's a row where things have gone wrong:"
   ]
  },
  {
   "cell_type": "code",
   "execution_count": 5,
   "metadata": {
    "scrolled": true
   },
   "outputs": [
    {
     "name": "stdout",
     "output_type": "stream",
     "text": [
      "['Life Made WI-Fi Touchscreen Photo Frame', '1.9', '19', '3.0M', '1,000+', 'Free', '0', 'Everyone', '', 'February 11, 2018', '1.0.19', '4.0 and up']\n"
     ]
    }
   ],
   "source": [
    "print(android[10472])"
   ]
  },
  {
   "cell_type": "markdown",
   "metadata": {},
   "source": [
    "This row is missing a cell -- We have app names, but no category (hence rating is `19`, which simply can't be.)\n",
    "\n",
    "Here I've been told to delete the row (in future perhaps we'd populate it, or at least add an N/A?)\n",
    "\n",
    "To delete row 10472, use the **`del`** function:"
   ]
  },
  {
   "cell_type": "code",
   "execution_count": 6,
   "metadata": {},
   "outputs": [
    {
     "name": "stdout",
     "output_type": "stream",
     "text": [
      "['osmino Wi-Fi: free WiFi', 'TOOLS', '4.2', '134203', '4.1M', '10,000,000+', 'Free', '0', 'Everyone', 'Tools', 'August 7, 2018', '6.06.14', '4.4 and up']\n",
      "10840\n"
     ]
    }
   ],
   "source": [
    "del android[10472]\n",
    "\n",
    "print(android[10472])\n",
    "print(len(android))"
   ]
  },
  {
   "cell_type": "markdown",
   "metadata": {},
   "source": [
    "The row is gone with a new row in its place. We can see TOOLS where category should be, and we should have 10840 rows).\n",
    "\n",
    "According to the instructions there are 1,181 cases where an app appears more than once. That's ~10% of the dataset.\n",
    "\n",
    "Now we have to create a function to find these errors. First, let's look for **duplicates**.\n",
    "\n",
    "## 4. Removing Duplicate Entries: Part One\n",
    "\n",
    "Here's proof of multiple apps of the same name (they've given me this code):"
   ]
  },
  {
   "cell_type": "code",
   "execution_count": 7,
   "metadata": {},
   "outputs": [
    {
     "name": "stdout",
     "output_type": "stream",
     "text": [
      "['Instagram', 'SOCIAL', '4.5', '66577313', 'Varies with device', '1,000,000,000+', 'Free', '0', 'Teen', 'Social', 'July 31, 2018', 'Varies with device', 'Varies with device']\n",
      " \n",
      "['Instagram', 'SOCIAL', '4.5', '66577446', 'Varies with device', '1,000,000,000+', 'Free', '0', 'Teen', 'Social', 'July 31, 2018', 'Varies with device', 'Varies with device']\n",
      " \n",
      "['Instagram', 'SOCIAL', '4.5', '66577313', 'Varies with device', '1,000,000,000+', 'Free', '0', 'Teen', 'Social', 'July 31, 2018', 'Varies with device', 'Varies with device']\n",
      " \n",
      "['Instagram', 'SOCIAL', '4.5', '66509917', 'Varies with device', '1,000,000,000+', 'Free', '0', 'Teen', 'Social', 'July 31, 2018', 'Varies with device', 'Varies with device']\n",
      " \n"
     ]
    }
   ],
   "source": [
    "for app in android:\n",
    "    name = app[0]\n",
    "    if name == 'Instagram':\n",
    "        print(app)\n",
    "        print(' ')"
   ]
  },
  {
   "cell_type": "markdown",
   "metadata": {},
   "source": [
    "There are four 'Instagram's' in the set. What differs between them is column 4 (or 3, you should get used to that). That's 'reviews', which means the *number* of accumulated reviews. The higher the number, the more recent the data, so goes the logic of increasing reviews.\n",
    "\n",
    "If we want to remove duplicates, rather than remove randomly, we should want to keep row with the **biggest** number from the 4th header.\n",
    "\n",
    "But how many duplicates do we have overall? The code below tells us:"
   ]
  },
  {
   "cell_type": "code",
   "execution_count": 8,
   "metadata": {},
   "outputs": [
    {
     "name": "stdout",
     "output_type": "stream",
     "text": [
      "Number of duplicate apps: 1181\n",
      "Examples of duplicate apps: ['Quick PDF Scanner + OCR FREE', 'Box', 'Google My Business', 'ZOOM Cloud Meetings', 'join.me - Simple Meetings', 'Box', 'Zenefits', 'Google Ads', 'Google My Business', 'Slack', 'FreshBooks Classic']\n"
     ]
    }
   ],
   "source": [
    "#Make two lists, one for unique apps and another for duplicates.\n",
    "duplicate_apps = []\n",
    "unique_apps = []\n",
    "\n",
    "for app in android:\n",
    "    name = app[0]\n",
    "    if name in unique_apps:\n",
    "        duplicate_apps.append(name) #2) Except for ones which appear already\n",
    "    else:\n",
    "        unique_apps.append(name) #1) All the names are filled in here first\n",
    "\n",
    "#Then we can get clever with the labelling, with a string followed by the length\n",
    "print('Number of duplicate apps:', len(duplicate_apps))\n",
    "print('Examples of duplicate apps:', duplicate_apps[:11])"
   ]
  },
  {
   "cell_type": "markdown",
   "metadata": {},
   "source": [
    "Now we know for sure that there are 1181 instances of repetitions. When we remove them we should at least know what our number should be to confirm our code worked. Here's how we do it:"
   ]
  },
  {
   "cell_type": "code",
   "execution_count": 9,
   "metadata": {
    "scrolled": true
   },
   "outputs": [
    {
     "name": "stdout",
     "output_type": "stream",
     "text": [
      "Expected length: 9659\n"
     ]
    }
   ],
   "source": [
    "#Since we now know the number of duplicate apps, we can subtract from the total - here you can use len, but the figure was 10840 as we found in the del section.\n",
    "print('Expected length:', len(android) - 1181)"
   ]
  },
  {
   "cell_type": "code",
   "execution_count": 10,
   "metadata": {},
   "outputs": [
    {
     "name": "stdout",
     "output_type": "stream",
     "text": [
      "Number of duplicate apps: 90\n",
      "\n",
      "\n",
      "Examples of duplicate apps: ['270729216', '44099584', '53805056', '85724160', '114601984', '68952064', '116443136', '70040576', '30252032', '143166464', '79953920']\n",
      "Our expected length is 7195\n",
      "\n",
      "\n",
      "100788224\n",
      "\n",
      "\n",
      "Number of rows: 7107\n",
      "Number of columns: 9\n"
     ]
    }
   ],
   "source": [
    "#Gonna do the same for iOS and see if it works. But won't remove them as the answer booklet does not and I haven't been asked to.\n",
    "\n",
    "duplicate_apps_ios = []\n",
    "unique_apps_ios = []\n",
    "\n",
    "for apps in ios:\n",
    "    name = apps[2]\n",
    "    if name in unique_apps_ios:\n",
    "        duplicate_apps_ios.append(name) #2) Except for ones which appear already\n",
    "    else:\n",
    "        unique_apps_ios.append(name) #1) All the names are filled in here first\n",
    "\n",
    "#Then we can get clever with the labelling, with a string followed by the length\n",
    "print('Number of duplicate apps:', len(duplicate_apps_ios))\n",
    "print('\\n')\n",
    "print('Examples of duplicate apps:', duplicate_apps_ios[:11])\n",
    "\n",
    "print('Our expected length is 7195')\n",
    "print('\\n')\n",
    "explore_data(unique_apps_ios, 0, 1, True)"
   ]
  },
  {
   "cell_type": "markdown",
   "metadata": {},
   "source": [
    "## 5. Removing Duplicate Entries: Part Two\n",
    "\n",
    "We've discovered there are 1,181 duplicates in our Android data set (and two in our iOS dataset). We have to remove them based on our established critera. \n",
    "\n",
    "### To remove the duplicates, I will:\n",
    "\n",
    "- Create a dictionary where each key is the **unique app name**. \n",
    "- The dictionary **value** is the **highest number of reviews** of the named app.\n",
    "- Then I'll use the dictionary to create a new data set that will have only one entry per app, only selecting from the highest number of reviews."
   ]
  },
  {
   "cell_type": "markdown",
   "metadata": {},
   "source": [
    "We're going to use the `not in` operator. This means that we get `True` instead of `False` when we check for membership of a value vs. what's in a dictionary.\n",
    "\n",
    "Let's create the dictionary:"
   ]
  },
  {
   "cell_type": "code",
   "execution_count": 11,
   "metadata": {},
   "outputs": [
    {
     "name": "stdout",
     "output_type": "stream",
     "text": [
      "Actual length is: 9659\n"
     ]
    }
   ],
   "source": [
    "#Start by creating an empty dict:\n",
    "reviews_max = {}\n",
    "\n",
    "#Loop through the Google Play (android) dataset\n",
    "for apps in android:\n",
    "    name = apps[0] # Assign the app name to a variable named `name` - this is row 0 in android.\n",
    "    n_reviews = float(apps[3]) # Convert the number of reviews to a float (1.1) and assign to n_reviews. The row is 3 - reviews.\n",
    "    \n",
    "    if name in reviews_max and reviews_max[name] < n_reviews:\n",
    "        reviews_max[name] = n_reviews # If name already exists and it's n_reviews is less than the current value, update!\n",
    "    elif name not in reviews_max: # We're told not to use else, and since this is a second if statement, one can't use if, hence elif. Also, notice not in.\n",
    "        reviews_max[name] = n_reviews # This line then creates a new entry where the key is the app name\n",
    "        \n",
    "#Inspect the dictionary - the expected length is 9659        \n",
    "print('Actual length is:', len(reviews_max))"
   ]
  },
  {
   "cell_type": "markdown",
   "metadata": {},
   "source": [
    "That's what we expected. So far, so good. Now we have our dictionary of unique apps only, we can use it to create a new dataset."
   ]
  },
  {
   "cell_type": "code",
   "execution_count": 12,
   "metadata": {},
   "outputs": [
    {
     "name": "stdout",
     "output_type": "stream",
     "text": [
      "['Name Art Photo Editor - Focus n Filters', 'ART_AND_DESIGN', '4.4', '8788', '12M', '1,000,000+', 'Free', '0', 'Everyone', 'Art & Design', 'July 31, 2018', '1.0.15', '4.0 and up']\n",
      "\n",
      "\n",
      "Number of rows: 9659\n",
      "Number of columns: 13\n"
     ]
    }
   ],
   "source": [
    "#Start with two empty lists:\n",
    "\n",
    "android_clean = [] # Stores our new dataset\n",
    "already_added = [] # Stores app names\n",
    "\n",
    "#Loop through the Google Play (android) dataset:\n",
    "for apps in android:\n",
    "    name = apps[0] # Assign the app name to a variable named `name` - this is row 0 in android.\n",
    "    n_reviews = float(apps[3]) # Convert the number of reviews to a float (1.1) and assign to n_reviews. The row is 3 - reviews.\n",
    "    \n",
    "    if n_reviews == reviews_max[name] and name not in already_added: #If n_reviews is the same as the max number of reviews of the app name and the app name is not already in the list already added\n",
    "        android_clean.append(apps)\n",
    "        already_added.append(name)\n",
    "        \n",
    "explore_data(android_clean, 10, 11, True)"
   ]
  },
  {
   "cell_type": "markdown",
   "metadata": {},
   "source": [
    "How this works:\n",
    "\n",
    "- We loop through the android data set.\n",
    "- For every iteration, we isolate the `name` of the app and the `number of reviews`\n",
    "- We add the row (app) to the android_clean list and the app name (name) to the already_added list if:\n",
    "    - The number of reviews of the current app matches the number of reviews in the dictionary we made, and\n",
    "    - The name of the app is not in the `already_installed` list. (We've added this to acount for cases where there are duplicate entries with the same high number of reviews.\n",
    "    \n",
    "Now we have our 'clean' dataset, which we'll apply to the next section."
   ]
  },
  {
   "cell_type": "markdown",
   "metadata": {},
   "source": [
    "## 6. Removing Non-English Apps: Part One\n",
    "\n",
    "We're going to remove 'non-English' apps from our dataset. This'll be done with a couple of cool techniques, but a less cool idea behind it.\n",
    "\n",
    "This approach has limitations. Chinese, Japanese and (everyone's favorite) Russian would be filtered. But French, German and Portuguese would remain, generally. So while this is testing my skill by later making me create a Function, it is in general not a good way of approaching app name filtration.\n",
    "\n",
    "Anyway, did you know, each letter (or character, or even emoji) has a corresponding number, according to the ASCII (American Standard Code for Information Interchange) system. See:"
   ]
  },
  {
   "cell_type": "code",
   "execution_count": 13,
   "metadata": {},
   "outputs": [
    {
     "name": "stdout",
     "output_type": "stream",
     "text": [
      "65\n",
      "98\n",
      "67\n",
      "12484\n",
      "1092\n",
      "129392\n",
      "57\n"
     ]
    }
   ],
   "source": [
    "print(ord('A'))\n",
    "print(ord('b'))\n",
    "print(ord('C')) \n",
    "print(ord('ツ'))\n",
    "print(ord('ф'))\n",
    "print(ord('🥰'))\n",
    "print(ord('9'))"
   ]
  },
  {
   "cell_type": "markdown",
   "metadata": {},
   "source": [
    "Based on this, we can build a function that detects whether a character belongs to the set of common English characters, or not, and then filter them into their own final list of clean apps.\n",
    "\n",
    "So, the logic goes, if the number is `==` to or `<` 127, then the character belongs to the set of common English characters and should be kept in our dataset. Everything above that should go.\n",
    "\n",
    "Let's build a function that \"takes in a string and returns `False` if there's any character in the string that doesn't belong to the set of common English characters, otherwise it returns `True`\". The one below adds a second condition - there must be three characters in the string that are outside 127 to be filtered."
   ]
  },
  {
   "cell_type": "code",
   "execution_count": 14,
   "metadata": {},
   "outputs": [
    {
     "name": "stdout",
     "output_type": "stream",
     "text": [
      "False\n",
      "True\n",
      "False\n"
     ]
    }
   ],
   "source": [
    "def getout(string):\n",
    "    strikes = 0\n",
    "    \n",
    "    for characters in string:\n",
    "        if ord(characters) > 127:\n",
    "            strikes += 1\n",
    "            \n",
    "    if strikes > 3: #Really important to remember indentation here - this is a new if statement separate from the For loop.\n",
    "        return False\n",
    "    else:\n",
    "        return True\n",
    "        \n",
    "print(getout('超强清理大师'))\n",
    "print(getout('Instachat 😏'))\n",
    "print(getout('爱奇艺PPS -《欢乐颂2》电视剧热播'))"
   ]
  },
  {
   "cell_type": "markdown",
   "metadata": {},
   "source": [
    "The function is not perfect, but this \"seems good enough\".\n",
    "\n",
    "Let's use getout() function to filter out the non-English apps for our data sets:"
   ]
  },
  {
   "cell_type": "code",
   "execution_count": 15,
   "metadata": {},
   "outputs": [
    {
     "name": "stdout",
     "output_type": "stream",
     "text": [
      "['Photo Editor & Candy Camera & Grid & ScrapBook', 'ART_AND_DESIGN', '4.1', '159', '19M', '10,000+', 'Free', '0', 'Everyone', 'Art & Design', 'January 7, 2018', '1.0.0', '4.0.3 and up']\n",
      "\n",
      "\n",
      "Number of rows: 9614\n",
      "Number of columns: 13\n",
      "\n",
      "\n",
      "['450555662', 'The Singing Machine Mobile Karaoke App', '32770048', 'USD', '0', '130', '9', '2.5', '1.5', '1.10.4', '12+', 'Music', '37', '1', '1', '1']\n",
      "\n",
      "\n",
      "Number of rows: 6183\n",
      "Number of columns: 16\n"
     ]
    }
   ],
   "source": [
    "#First of all, empty lists to house our new clean data\n",
    "\n",
    "android_no_russian = []\n",
    "ios_english = []\n",
    "\n",
    "#Now the code to filter out the foreign characters:\n",
    "for apps in android_clean: #Loop through android_clean\n",
    "    name = apps[0]         #Separate the name column\n",
    "    if getout(name):   #Check the name column with our newly created function\n",
    "        android_no_russian.append(apps) #Append the English language(?) apps to the new empty list\n",
    "        \n",
    "for app in ios:\n",
    "    name = app[1]\n",
    "    if getout(name):\n",
    "        ios_english.append(app)\n",
    "        \n",
    "#Let's see how we did: \n",
    "explore_data(android_no_russian, 0, 1, True)\n",
    "print('\\n')\n",
    "explore_data(ios_english, 814, 815, True)"
   ]
  },
  {
   "cell_type": "markdown",
   "metadata": {},
   "source": [
    "So, we have android_no_russian with 9614 apps, and ios_english with 6183 apps. This is the same outcome as the [solutions notebook](https://github.com/dataquestio/solutions/blob/master/Mission350Solutions.ipynb).\n",
    "\n",
    "## Eliminating paid-for apps\n",
    "\n",
    "We're limiting our analysis to paid apps. That means we need to remove any apps that are paid for. Let's first remind ourselves of the headings:"
   ]
  },
  {
   "cell_type": "code",
   "execution_count": 16,
   "metadata": {},
   "outputs": [
    {
     "name": "stdout",
     "output_type": "stream",
     "text": [
      "['App', 'Category', 'Rating', 'Reviews', 'Size', 'Installs', 'Type', 'Price', 'Content Rating', 'Genres', 'Last Updated', 'Current Ver', 'Android Ver']\n",
      "\n",
      "\n",
      "['Photo Editor & Candy Camera & Grid & ScrapBook', 'ART_AND_DESIGN', '4.1', '159', '19M', '10,000+', 'Free', '0', 'Everyone', 'Art & Design', 'January 7, 2018', '1.0.0', '4.0.3 and up']\n",
      "\n",
      "\n",
      "['id', 'track_name', 'size_bytes', 'currency', 'price', 'rating_count_tot', 'rating_count_ver', 'user_rating', 'user_rating_ver', 'ver', 'cont_rating', 'prime_genre', 'sup_devices.num', 'ipadSc_urls.num', 'lang.num', 'vpp_lic']\n",
      "\n",
      "\n",
      "['281656475', 'PAC-MAN Premium', '100788224', 'USD', '3.99', '21292', '26', '4', '4.5', '6.3.5', '4+', 'Games', '38', '5', '10', '1']\n",
      "\n",
      "\n"
     ]
    }
   ],
   "source": [
    "print(android_header)\n",
    "print('\\n')\n",
    "explore_data(android_no_russian, 0, 1, False)\n",
    "print(ios_header)\n",
    "print('\\n')\n",
    "explore_data(ios_english, 0, 1, False)"
   ]
  },
  {
   "cell_type": "markdown",
   "metadata": {},
   "source": [
    "In Android, column 7 reveals the price (Type (6) is 'Free' or 'Paid'). iOS is 'price', column 4. (We should create code to look at the potential outcome as we did with duplicate entries, but I won't for now.)\n",
    "\n",
    "Instead, let's loop through each data set, identify our free apps, and separate them into our final data sets:"
   ]
  },
  {
   "cell_type": "code",
   "execution_count": 17,
   "metadata": {},
   "outputs": [
    {
     "name": "stdout",
     "output_type": "stream",
     "text": [
      "8863\n",
      "3222\n"
     ]
    }
   ],
   "source": [
    "android_final = []\n",
    "ios_final = []\n",
    "\n",
    "for apps in android_no_russian:\n",
    "    price = apps[6]\n",
    "    if price == 'Free':\n",
    "        android_final.append(apps)\n",
    "\n",
    "for app in ios_english:\n",
    "    price = app[4]\n",
    "    if price == '0': #The data in the table is a string(?) So you could either convert to a int/float or use ''.\n",
    "        ios_final.append(app)\n",
    "        \n",
    "print(len(android_final))\n",
    "print(len(ios_final))"
   ]
  },
  {
   "cell_type": "markdown",
   "metadata": {},
   "source": [
    "WE'RE DONE, AND WE'RE NEVER DOING THIS PART AGAIN (UNTIL THE NEXT DATA CLEAN). \n",
    "\n",
    "(The iOS set provided is different to the solutions notebook - there's an extra column which made it confusing, so I just deleted it). I also have one less app in the Android dataset, but that's ok, I probably deleted it.\n",
    " \n",
    "Let's move on to analyzing the data.\n",
    "\n",
    "## 9. Most Common Apps by Genre\n",
    "\n",
    "Apparently we build apps for android, then (if they are successful) ship them later onto iOS. Not sure this is the winning strategy, but then again we only make English-only apps as well. We also look at profitability after six months, not one or two like most other hyper-casuals. I will probably leave this company soon. \n",
    "\n",
    "Anyway, we need to look for:\n",
    "\n",
    "1. Apps in our dataset that are successful on both iOS and Android\n",
    "\n",
    "So let's begin by getting a sense of common genres for each market. Looking up, column 2 [1] is 'Category' in Android, and column 10 [9] 'genre' could be good too. Column 12 [11] is 'prime_genre' in iOS. I could use THESE to generate frequency tables.\n",
    "\n",
    "To analyze the data, lets build two functions we can use to analyze the frequency tables:\n",
    "\n",
    "- One to generate frequency tables that **show percentages**\n",
    "- Another to display the percentages in a _descending_ order\n",
    "\n",
    "Here are my instructions:\n",
    "\n",
    "Create a function named `freq_table()` that takes in two inputs: `dataset` (which is expected to be a list of lists) and `index` (which is expected to be an integer).\n",
    "\n",
    "- The function should return the frequency table (as a dictionary) for any column we want. \n",
    "- The frequencies should be expressed as percentages."
   ]
  },
  {
   "cell_type": "code",
   "execution_count": 18,
   "metadata": {},
   "outputs": [],
   "source": [
    "#freq_table function - this is the answer, let's look at it and see if we can replicate after deleting it.\n",
    "def freq_table(dataset, index):\n",
    "    \n",
    "    table = {} #Empty dic. to fill in\n",
    "    total = 0 #We add this so we can divide by the total later\n",
    "    \n",
    "    for row in dataset:\n",
    "        total += 1 #Every loop, total gets one more value.\n",
    "        value = row[index] #Now the frequency table starts - Defining iteration variable value, which is each row of the index. Not sure why named so?\n",
    "        if value in table:\n",
    "            table[value] += 1 #Checks whether the iteration variable (`value`) exists as a key in table. If so, adds one.\n",
    "        else:\n",
    "            table[value] = 1 #As above, but if it doesn't exist, adds it to the dataset.\n",
    "    \n",
    "    table_percentages = {}\n",
    "    for key in table:\n",
    "        percentage = (table[key] / total) * 100\n",
    "        table_percentages[key] = percentage\n",
    "    \n",
    "    return table_percentages\n",
    "    \n",
    "#display_table() function - completely copied from Dataquest:\n",
    "def display_table(dataset, index):\n",
    "    table = freq_table(dataset, index)\n",
    "    table_display = []\n",
    "    for key in table:\n",
    "        key_val_as_tuple = (table[key], key)\n",
    "        table_display.append(key_val_as_tuple)\n",
    "\n",
    "    table_sorted = sorted(table_display, reverse = True)\n",
    "    for entry in table_sorted:\n",
    "        print(entry[1], ':', entry[0])"
   ]
  },
  {
   "cell_type": "code",
   "execution_count": 19,
   "metadata": {},
   "outputs": [
    {
     "name": "stdout",
     "output_type": "stream",
     "text": [
      "Games : 58.16263190564867\n",
      "Entertainment : 7.883302296710118\n",
      "Photo & Video : 4.9658597144630665\n",
      "Education : 3.662321539416512\n",
      "Social Networking : 3.2898820608317814\n",
      "Shopping : 2.60707635009311\n",
      "Utilities : 2.5139664804469275\n",
      "Sports : 2.1415270018621975\n",
      "Music : 2.0484171322160147\n",
      "Health & Fitness : 2.0173805090006205\n",
      "Productivity : 1.7380509000620732\n",
      "Lifestyle : 1.5828677839851024\n",
      "News : 1.3345747982619491\n",
      "Travel : 1.2414649286157666\n",
      "Finance : 1.1173184357541899\n",
      "Weather : 0.8690254500310366\n",
      "Food & Drink : 0.8069522036002483\n",
      "Reference : 0.5586592178770949\n",
      "Business : 0.5276225946617008\n",
      "Book : 0.4345127250155183\n",
      "Navigation : 0.186219739292365\n",
      "Medical : 0.186219739292365\n",
      "Catalogs : 0.12414649286157665\n"
     ]
    }
   ],
   "source": [
    "#You can now use the display_table function to look at your data, like so:\n",
    "\n",
    "display_table(ios_final, 11)"
   ]
  },
  {
   "cell_type": "markdown",
   "metadata": {},
   "source": [
    "### Trends:\n",
    "    \n",
    "Developers are HOT for Gaming, with 58% of apps in our dataset appearing to be Games. Entertainment more generally is 8%, along with Photo and Video at 5%. Music is separate at 2%. Fun, essentially, makes up 73% of apps in the App Store.\n",
    "\n",
    "But, as it stands, this just isn't enough data - sure, there are lots of developed 'Fun' apps, but that doesn't mean anyone is playing them, or enjoying them.\n",
    "\n",
    "Let's also get a sense of the Play Store figures:"
   ]
  },
  {
   "cell_type": "code",
   "execution_count": 20,
   "metadata": {
    "scrolled": true
   },
   "outputs": [
    {
     "name": "stdout",
     "output_type": "stream",
     "text": [
      "FAMILY : 18.898792733837304\n",
      "GAME : 9.725826469592688\n",
      "TOOLS : 8.462146000225657\n",
      "BUSINESS : 4.592124562789123\n",
      "LIFESTYLE : 3.9038700214374367\n",
      "PRODUCTIVITY : 3.8925871601038025\n",
      "FINANCE : 3.7007785174320205\n",
      "MEDICAL : 3.5315355974275078\n",
      "SPORTS : 3.396141261423897\n",
      "PERSONALIZATION : 3.317161232088458\n",
      "COMMUNICATION : 3.2381812027530184\n",
      "HEALTH_AND_FITNESS : 3.0802211440821394\n",
      "PHOTOGRAPHY : 2.944826808078529\n",
      "NEWS_AND_MAGAZINES : 2.798149610741284\n",
      "SOCIAL : 2.6627552747376737\n",
      "TRAVEL_AND_LOCAL : 2.335552296062281\n",
      "SHOPPING : 2.245289405393208\n",
      "BOOKS_AND_REFERENCE : 2.1437436533904997\n",
      "DATING : 1.8616721200496444\n",
      "VIDEO_PLAYERS : 1.7939749520478394\n",
      "MAPS_AND_NAVIGATION : 1.399074805370642\n",
      "FOOD_AND_DRINK : 1.241114746699763\n",
      "EDUCATION : 1.1621347173643235\n",
      "ENTERTAINMENT : 0.9590432133589079\n",
      "LIBRARIES_AND_DEMO : 0.9364774906916393\n",
      "AUTO_AND_VEHICLES : 0.9251946293580051\n",
      "HOUSE_AND_HOME : 0.8236488773552973\n",
      "WEATHER : 0.8010831546880289\n",
      "EVENTS : 0.7108202640189552\n",
      "PARENTING : 0.6544059573507841\n",
      "ART_AND_DESIGN : 0.6431230960171499\n",
      "COMICS : 0.6205573733498815\n",
      "BEAUTY : 0.5979916506826132\n"
     ]
    }
   ],
   "source": [
    "#Category\n",
    "\n",
    "display_table(android_final, 1)"
   ]
  },
  {
   "cell_type": "code",
   "execution_count": 21,
   "metadata": {},
   "outputs": [
    {
     "name": "stdout",
     "output_type": "stream",
     "text": [
      "Tools : 8.450863138892023\n",
      "Entertainment : 6.070179397495204\n",
      "Education : 5.348076272142616\n",
      "Business : 4.592124562789123\n",
      "Productivity : 3.8925871601038025\n",
      "Lifestyle : 3.8925871601038025\n",
      "Finance : 3.7007785174320205\n",
      "Medical : 3.5315355974275078\n",
      "Sports : 3.463838429425702\n",
      "Personalization : 3.317161232088458\n",
      "Communication : 3.2381812027530184\n",
      "Action : 3.102786866749408\n",
      "Health & Fitness : 3.0802211440821394\n",
      "Photography : 2.944826808078529\n",
      "News & Magazines : 2.798149610741284\n",
      "Social : 2.6627552747376737\n",
      "Travel & Local : 2.324269434728647\n",
      "Shopping : 2.245289405393208\n",
      "Books & Reference : 2.1437436533904997\n",
      "Simulation : 2.042197901387792\n",
      "Dating : 1.8616721200496444\n",
      "Arcade : 1.8503892587160102\n",
      "Video Players & Editors : 1.771409229380571\n",
      "Casual : 1.7601263680469368\n",
      "Maps & Navigation : 1.399074805370642\n",
      "Food & Drink : 1.241114746699763\n",
      "Puzzle : 1.128286133363421\n",
      "Racing : 0.9928917973598104\n",
      "Role Playing : 0.9364774906916393\n",
      "Libraries & Demo : 0.9364774906916393\n",
      "Auto & Vehicles : 0.9251946293580051\n",
      "Strategy : 0.9026289066907368\n",
      "House & Home : 0.8236488773552973\n",
      "Weather : 0.8010831546880289\n",
      "Events : 0.7108202640189552\n",
      "Adventure : 0.6769716800180525\n",
      "Comics : 0.6092745120162473\n",
      "Beauty : 0.5979916506826132\n",
      "Art & Design : 0.5979916506826132\n",
      "Parenting : 0.4964458986799052\n",
      "Card : 0.4513144533453684\n",
      "Casino : 0.42874873067809993\n",
      "Trivia : 0.4174658693444658\n",
      "Educational;Education : 0.3949001466771973\n",
      "Board : 0.38361728534356315\n",
      "Educational : 0.37233442400992894\n",
      "Education;Education : 0.33848584000902626\n",
      "Word : 0.25950581067358686\n",
      "Casual;Pretend Play : 0.2369400880063184\n",
      "Music : 0.20309150400541578\n",
      "Racing;Action & Adventure : 0.16924292000451313\n",
      "Puzzle;Brain Games : 0.16924292000451313\n",
      "Entertainment;Music & Video : 0.16924292000451313\n",
      "Casual;Brain Games : 0.1353943360036105\n",
      "Casual;Action & Adventure : 0.1353943360036105\n",
      "Arcade;Action & Adventure : 0.1241114746699763\n",
      "Action;Action & Adventure : 0.10154575200270789\n",
      "Educational;Pretend Play : 0.09026289066907367\n",
      "Simulation;Action & Adventure : 0.07898002933543948\n",
      "Parenting;Education : 0.07898002933543948\n",
      "Entertainment;Brain Games : 0.07898002933543948\n",
      "Board;Brain Games : 0.07898002933543948\n",
      "Parenting;Music & Video : 0.06769716800180525\n",
      "Educational;Brain Games : 0.06769716800180525\n",
      "Casual;Creativity : 0.06769716800180525\n",
      "Art & Design;Creativity : 0.06769716800180525\n",
      "Education;Pretend Play : 0.05641430666817105\n",
      "Role Playing;Pretend Play : 0.045131445334536835\n",
      "Education;Creativity : 0.045131445334536835\n",
      "Role Playing;Action & Adventure : 0.033848584000902626\n",
      "Puzzle;Action & Adventure : 0.033848584000902626\n",
      "Entertainment;Creativity : 0.033848584000902626\n",
      "Entertainment;Action & Adventure : 0.033848584000902626\n",
      "Educational;Creativity : 0.033848584000902626\n",
      "Educational;Action & Adventure : 0.033848584000902626\n",
      "Education;Music & Video : 0.033848584000902626\n",
      "Education;Brain Games : 0.033848584000902626\n",
      "Education;Action & Adventure : 0.033848584000902626\n",
      "Adventure;Action & Adventure : 0.033848584000902626\n",
      "Video Players & Editors;Music & Video : 0.022565722667268417\n",
      "Sports;Action & Adventure : 0.022565722667268417\n",
      "Simulation;Pretend Play : 0.022565722667268417\n",
      "Puzzle;Creativity : 0.022565722667268417\n",
      "Music;Music & Video : 0.022565722667268417\n",
      "Entertainment;Pretend Play : 0.022565722667268417\n",
      "Casual;Education : 0.022565722667268417\n",
      "Board;Action & Adventure : 0.022565722667268417\n",
      "Video Players & Editors;Creativity : 0.011282861333634209\n",
      "Trivia;Education : 0.011282861333634209\n",
      "Travel & Local;Action & Adventure : 0.011282861333634209\n",
      "Tools;Education : 0.011282861333634209\n",
      "Strategy;Education : 0.011282861333634209\n",
      "Strategy;Creativity : 0.011282861333634209\n",
      "Strategy;Action & Adventure : 0.011282861333634209\n",
      "Simulation;Education : 0.011282861333634209\n",
      "Role Playing;Brain Games : 0.011282861333634209\n",
      "Racing;Pretend Play : 0.011282861333634209\n",
      "Puzzle;Education : 0.011282861333634209\n",
      "Parenting;Brain Games : 0.011282861333634209\n",
      "Music & Audio;Music & Video : 0.011282861333634209\n",
      "Lifestyle;Pretend Play : 0.011282861333634209\n",
      "Lifestyle;Education : 0.011282861333634209\n",
      "Health & Fitness;Education : 0.011282861333634209\n",
      "Health & Fitness;Action & Adventure : 0.011282861333634209\n",
      "Entertainment;Education : 0.011282861333634209\n",
      "Communication;Creativity : 0.011282861333634209\n",
      "Comics;Creativity : 0.011282861333634209\n",
      "Casual;Music & Video : 0.011282861333634209\n",
      "Card;Action & Adventure : 0.011282861333634209\n",
      "Books & Reference;Education : 0.011282861333634209\n",
      "Art & Design;Pretend Play : 0.011282861333634209\n",
      "Art & Design;Action & Adventure : 0.011282861333634209\n",
      "Arcade;Pretend Play : 0.011282861333634209\n",
      "Adventure;Education : 0.011282861333634209\n"
     ]
    }
   ],
   "source": [
    "#Genre\n",
    "\n",
    "display_table(android_final, 9)"
   ]
  },
  {
   "cell_type": "markdown",
   "metadata": {},
   "source": [
    "The data is much more spread out, as Android has way more categories (36 vs. 26 in iOS). Genre is a real pain as the Games are split into ALL Android categories, and includes apps with two categories. \n",
    "\n",
    "We've spent a lot of time filtering data that doesn't serve our purposes. This won't be the last time.\n",
    "\n",
    "But yes, we have most common genres, now it's time to figure out which are the most popular, I think?\n",
    "\n",
    "## 12. Most Popular Apps by Genre on the App Store\n",
    "\n",
    "Next stage, let's figure out popularity. Because the App Store dataset doesn't have installs, we're going to approximate popularity by look at the number of ratings with `rating_count_tot`, and making an average number per genre.\n",
    "\n",
    "To do this, we need to:\n",
    "\n",
    "- Isolate the apps of each genre.\n",
    "- Sum up the user ratings for the apps of that genre.\n",
    "- Divide the sum by the number of apps belonging to that genre (not by the total number of apps).\n",
    "\n",
    "I think this means we're creating an average of the number of user ratings - not the score.\n",
    "\n",
    "To do these steps, we'll start by generating a frequency table for the `prime_genre` column to get the unique app genres. You can use the freq_table() function you wrote in a previous screen.\n",
    "\n",
    "We're also going to use nested loops for the first time. This means... loops inside loops! The instructions showed me that the first loop runs one, and the second loop runs through the whole iteration.\n",
    "\n",
    "Let's start with calculating the average number of user ratings per app genre on the App Store:"
   ]
  },
  {
   "cell_type": "code",
   "execution_count": 22,
   "metadata": {},
   "outputs": [
    {
     "name": "stdout",
     "output_type": "stream",
     "text": [
      "Productivity : 21028.410714285714\n",
      "Weather : 52279.892857142855\n",
      "Shopping : 26919.690476190477\n",
      "Reference : 74942.11111111111\n",
      "Finance : 31467.944444444445\n",
      "Music : 57326.530303030304\n",
      "Utilities : 18684.456790123455\n",
      "Travel : 28243.8\n",
      "Social Networking : 71548.34905660378\n",
      "Sports : 23008.898550724636\n",
      "Health & Fitness : 23298.015384615384\n",
      "Games : 22788.6696905016\n",
      "Food & Drink : 33333.92307692308\n",
      "News : 21248.023255813954\n",
      "Book : 39758.5\n",
      "Photo & Video : 28441.54375\n",
      "Entertainment : 14029.830708661417\n",
      "Business : 7491.117647058823\n",
      "Lifestyle : 16485.764705882353\n",
      "Education : 7003.983050847458\n",
      "Navigation : 86090.33333333333\n",
      "Medical : 612.0\n",
      "Catalogs : 4004.0\n"
     ]
    }
   ],
   "source": [
    "genres_ios = freq_table(ios_final, -5)\n",
    "\n",
    "for genre in genres_ios: # Loop over the unique genres in the dataset\n",
    "    total = 0 #This variable stores the sum of user ratings specific to each genre.\n",
    "    len_genre = 0 #This variable will store the number of apps specific to each genre.\n",
    "    for apps in ios_final: #Loop over the App Store data set\n",
    "        genre_app = apps[-5]\n",
    "        if genre_app == genre: #If genre_app is the same as genre (the iteration variable of the main loop), then\n",
    "            n_ratings = float(apps[5]) #Save the number of user ratings of the app as a float\n",
    "            total += n_ratings  #Add up the number of user ratings to the total variable. - I copied this because I didn't understand\n",
    "            len_genre += 1 # Increment the `len_genre` variable by `1`. Again, copied - it's the same as above but?? Increment? Ok\n",
    "    avg_n_rating = total / len_genre\n",
    "    print(genre, ':', avg_n_rating) #This needs to be within the loop or it will only print row 1, lol."
   ]
  },
  {
   "cell_type": "markdown",
   "metadata": {},
   "source": [
    "(I want to know how to sort this list. It's more important to me than the analysis itself.)\n",
    "\n",
    "The notebook tells me that Navigation has the highest number of apps. However, a snippet of code from there reveals that the figure is skewed by the high number of reviews of a few apps, notably Waze and Google Maps.\n",
    "\n",
    "If three apps have 100000 reviews, and 300 apps have 100 reviews each, can we tell anything about popularity? Not really. And factors such as popularity, and the ability of apps to push users to rate their own, are just getting in the way of our analysis.\n",
    "\n",
    "Also, this is just _number_ of reviews -- what if the average is a 3 because of a number of 1 star reviews?"
   ]
  },
  {
   "cell_type": "code",
   "execution_count": 23,
   "metadata": {},
   "outputs": [
    {
     "name": "stdout",
     "output_type": "stream",
     "text": [
      "Waze - GPS Navigation, Maps & Real-time Traffic : 345046\n",
      "Geocaching® : 12811\n",
      "ImmobilienScout24: Real Estate Search in Germany : 187\n",
      "Railway Route Search : 5\n",
      "CoPilot GPS – Car Navigation & Offline Maps : 3582\n",
      "Google Maps - Navigation & Transit : 154911\n"
     ]
    }
   ],
   "source": [
    "for app in ios_final:\n",
    "    if app[-5] == 'Navigation':\n",
    "        print(app[1], ':', app[5]) # print name and number of ratings"
   ]
  },
  {
   "cell_type": "markdown",
   "metadata": {},
   "source": [
    "Not so, here's the apps. Mine don't come out in the right order, which is frustrating, and I'd like to know how to order the code."
   ]
  },
  {
   "cell_type": "markdown",
   "metadata": {},
   "source": [
    "In fact, analyzing this for our purposes doesn't seem to be that useful. If we're a game company, surely we'd focus on Games. Or we'd focus on our own Games dataset! Here's what we do at Adjust when analyzing our data:\n",
    "\n",
    "1) Manually recategorize subverticals into different types of games (there are dozens!)\n",
    "2) Running analysis on a multitude of metrics, not only of our own data but on useful benchmark data, (can be found in Adjust reports).\n",
    "3) Considering more in-house factors here, such as cost modelling, direct competitors, etc.\n",
    "\n",
    "Any further analysis seems futile. Since we have rough Google Play download figures, let's move on.\n",
    "\n",
    "## Most Popular Apps by Genre on Google Play\n",
    "\n",
    "But wait, there's a snag: the Google Play data is kind of broad - these aren't exact numbers (see below). So, we're going to assume that the number is _the number_, sans `+` sign."
   ]
  },
  {
   "cell_type": "code",
   "execution_count": 24,
   "metadata": {},
   "outputs": [
    {
     "name": "stdout",
     "output_type": "stream",
     "text": [
      "1,000,000+ : 15.728308699086089\n",
      "100,000+ : 11.55365000564143\n",
      "10,000,000+ : 10.549475346947986\n",
      "10,000+ : 10.199706645605326\n",
      "1,000+ : 8.394448832223853\n",
      "100+ : 6.916393997517771\n",
      "5,000,000+ : 6.826131106848697\n",
      "500,000+ : 5.562450637481666\n",
      "50,000+ : 4.772650344127271\n",
      "5,000+ : 4.513144533453684\n",
      "10+ : 3.542818458761142\n",
      "500+ : 3.2494640640866526\n",
      "50,000,000+ : 2.3017037120613786\n",
      "100,000,000+ : 2.1324607920568655\n",
      "50+ : 1.9180864267178157\n",
      "5+ : 0.7898002933543946\n",
      "1+ : 0.5077287600135394\n",
      "500,000,000+ : 0.270788672007221\n",
      "1,000,000,000+ : 0.2256572266726842\n",
      "0+ : 0.045131445334536835\n"
     ]
    }
   ],
   "source": [
    "display_table(android_final, 5)"
   ]
  },
  {
   "cell_type": "markdown",
   "metadata": {},
   "source": [
    "So, that means removing commas and the plus sign from each row."
   ]
  },
  {
   "cell_type": "code",
   "execution_count": 30,
   "metadata": {},
   "outputs": [
    {
     "name": "stdout",
     "output_type": "stream",
     "text": [
      "ART_AND_DESIGN : 1986335.0877192982\n",
      "AUTO_AND_VEHICLES : 647317.8170731707\n",
      "BEAUTY : 513151.88679245283\n",
      "BOOKS_AND_REFERENCE : 8767811.894736841\n",
      "BUSINESS : 1712290.1474201474\n",
      "COMICS : 817657.2727272727\n",
      "COMMUNICATION : 38456119.167247385\n",
      "DATING : 854028.8303030303\n",
      "EDUCATION : 1833495.145631068\n",
      "ENTERTAINMENT : 11640705.88235294\n",
      "EVENTS : 253542.22222222222\n",
      "FINANCE : 1387692.475609756\n",
      "FOOD_AND_DRINK : 1924897.7363636363\n",
      "HEALTH_AND_FITNESS : 4188821.9853479853\n",
      "HOUSE_AND_HOME : 1331540.5616438356\n",
      "LIBRARIES_AND_DEMO : 638503.734939759\n",
      "LIFESTYLE : 1437816.2687861272\n",
      "GAME : 15588015.603248259\n",
      "FAMILY : 3697848.1731343283\n",
      "MEDICAL : 120550.61980830671\n",
      "SOCIAL : 23253652.127118643\n",
      "SHOPPING : 7036877.311557789\n",
      "PHOTOGRAPHY : 17840110.40229885\n",
      "SPORTS : 3638640.1428571427\n",
      "TRAVEL_AND_LOCAL : 13984077.710144928\n",
      "TOOLS : 10801391.298666667\n",
      "PERSONALIZATION : 5201482.6122448975\n",
      "PRODUCTIVITY : 16787331.344927534\n",
      "PARENTING : 542603.6206896552\n",
      "WEATHER : 5074486.197183099\n",
      "VIDEO_PLAYERS : 24727872.452830188\n",
      "NEWS_AND_MAGAZINES : 9549178.467741935\n",
      "MAPS_AND_NAVIGATION : 4056941.7741935486\n"
     ]
    }
   ],
   "source": [
    "cat_android = freq_table(android_final, 1)\n",
    "\n",
    "for category in cat_android:\n",
    "    total = 0\n",
    "    len_cat = 0 \n",
    "    for app in android_final:\n",
    "        category_app = app[1]\n",
    "        if category_app == category:\n",
    "            n_installs = app[5] \n",
    "            n_installs = n_installs.replace('+', '') #This function replaces plus signs with... nothing!\n",
    "            n_installs = n_installs.replace(',', '')\n",
    "            total += float(n_installs)\n",
    "            len_cat += 1\n",
    "    av_n_installs = total / len_cat\n",
    "    print(category, ':', av_n_installs)"
   ]
  },
  {
   "cell_type": "markdown",
   "metadata": {},
   "source": [
    "Now we have a 'healthy' average of installs. Again, this is probably weighted, and the list is unordered, so it's a bit painstaking to analyze.\n",
    "\n",
    "That said, 'Books and reference' have a ton of downloads. Likely Bible apps..."
   ]
  },
  {
   "cell_type": "code",
   "execution_count": 33,
   "metadata": {},
   "outputs": [
    {
     "name": "stdout",
     "output_type": "stream",
     "text": [
      "Google Play Books : 1,000,000,000+\n",
      "Bible : 100,000,000+\n",
      "Amazon Kindle : 100,000,000+\n",
      "Wattpad 📖 Free Books : 100,000,000+\n",
      "Audiobooks from Audible : 100,000,000+\n"
     ]
    }
   ],
   "source": [
    "#I totally stole this:\n",
    "\n",
    "for app in android_final:\n",
    "    if app[1] == 'BOOKS_AND_REFERENCE' and (app[5] == '1,000,000,000+'\n",
    "                                      or app[5] == '500,000,000+'\n",
    "                                      or app[5] == '100,000,000+'):\n",
    "        print(app[0], ':', app[5])"
   ]
  },
  {
   "cell_type": "markdown",
   "metadata": {},
   "source": [
    "OK, also readers themselves. Not interesting. Generally I'd support going for some kind of app in the reader space, easy to produce and the Game company would likely have writers on staff who could use the practice, and develop 'lore' for content marketing purposes. Angry Birds has TWO films out of this strategy, after all.\n",
    "\n",
    "Let's get writing."
   ]
  },
  {
   "cell_type": "code",
   "execution_count": null,
   "metadata": {},
   "outputs": [],
   "source": []
  }
 ],
 "metadata": {
  "kernelspec": {
   "display_name": "Python 3",
   "language": "python",
   "name": "python3"
  },
  "language_info": {
   "codemirror_mode": {
    "name": "ipython",
    "version": 3
   },
   "file_extension": ".py",
   "mimetype": "text/x-python",
   "name": "python",
   "nbconvert_exporter": "python",
   "pygments_lexer": "ipython3",
   "version": "3.7.4"
  }
 },
 "nbformat": 4,
 "nbformat_minor": 2
}
